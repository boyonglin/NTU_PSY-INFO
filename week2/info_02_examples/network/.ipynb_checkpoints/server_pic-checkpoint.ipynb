{
 "cells": [
  {
   "cell_type": "code",
   "execution_count": null,
   "metadata": {},
   "outputs": [
    {
     "name": "stdout",
     "output_type": "stream",
     "text": [
      "Waiting for a client\n",
      "Press 1, 2, ..., 6 to pick a word:\n",
      "elephant, fish, bird, road, houses, trees\n",
      "Server choice:1\n",
      "Waiting for the client\n",
      "y\n",
      "Press 1, 2, ..., 6 to pick a word:\n",
      "elephant, fish, bird, road, houses, trees\n",
      "Server choice:2\n",
      "Waiting for the client\n",
      "\n",
      "Press 1, 2, ..., 6 to pick a word:\n",
      "elephant, fish, bird, road, houses, trees\n"
     ]
    }
   ],
   "source": [
    "import numpy as np,glob as gb,socket\n",
    "from PIL import Image \n",
    "from matplotlib.pyplot import *\n",
    "\n",
    "code='utf-8'; nTrials=6\n",
    "words=['elephant','fish','bird','road','houses','trees']\n",
    "instruct='Press 1, 2, ..., 6 to pick a word:\\n'\n",
    "instruct=instruct+', '.join(words)\n",
    "corAns=np.array(['y']*3+['n']*3)\n",
    " \n",
    "print('Waiting for a client')\n",
    "s=socket.socket(socket.AF_INET,socket.SOCK_STREAM)\n",
    "s.setsockopt(socket.SOL_SOCKET,socket.SO_REUSEADDR,1)\n",
    "s.bind(('localhost', 1241))\n",
    "s.listen(1) # allow 1 client\n",
    "(c,adr)=s.accept()\n",
    "\n",
    "for t in range(nTrials):\n",
    "  print(instruct)\n",
    "  key=input('Server choice:')\n",
    "  idx=int(key[0])-1 # choice as the array index\n",
    "  with open(f[idx],'rb') as file:\n",
    "    data=file.read() # read in pic file\n",
    "  c.sendall((corAns[idx]+str(len(data))).encode(code)) # inform ans + pic size\n",
    "  c.sendall(data) # send pic file to the client\n",
    "  print('Waiting for the client')\n",
    "  print(c.recv(1).decode(code)) # waiting for a response from the client\n",
    "\n",
    "s.close()"
   ]
  },
  {
   "cell_type": "code",
   "execution_count": null,
   "metadata": {},
   "outputs": [],
   "source": []
  }
 ],
 "metadata": {
  "kernelspec": {
   "display_name": "Python 3",
   "language": "python",
   "name": "python3"
  },
  "language_info": {
   "codemirror_mode": {
    "name": "ipython",
    "version": 3
   },
   "file_extension": ".py",
   "mimetype": "text/x-python",
   "name": "python",
   "nbconvert_exporter": "python",
   "pygments_lexer": "ipython3",
   "version": "3.8.8"
  }
 },
 "nbformat": 4,
 "nbformat_minor": 4
}
