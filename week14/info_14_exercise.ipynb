{
 "cells": [
  {
   "cell_type": "markdown",
   "metadata": {},
   "source": [
    "# Psychoinformatics - Week 14 (Exercises)\n",
    "by your name (your email)"
   ]
  },
  {
   "cell_type": "markdown",
   "metadata": {},
   "source": [
    "## 1 教學意見調查 (4 points)\n",
    "Please provide a screenshot showing that you've completed the evaluation of this course, and thanks for your feedback!"
   ]
  },
  {
   "cell_type": "code",
   "execution_count": null,
   "metadata": {},
   "outputs": [],
   "source": [
    "# Please write your codes here"
   ]
  },
  {
   "cell_type": "markdown",
   "metadata": {},
   "source": [
    "## 2 Audio Segementation (4 points) \n",
    "Please use one audio/speech segementation method of your choice (including your own codes) to calculate:\n",
    "\n",
    "[1] the number of segments, and <br>\n",
    "[2] the total speech duration of all the segments (seconds)\n",
    "\n",
    "of each .wav file in https://ceiba.ntu.edu.tw/course/4671ea/content/speech.zip .\n",
    "\n",
    "In the following example, there are 5 segements and the total speech duration is the sum of yellow(+blue) periods.\n",
    "\n",
    "<img src=\"https://www.irit.fr/recherches/SAMOVA/assets/images/segmentation3.gif\">"
   ]
  },
  {
   "cell_type": "code",
   "execution_count": null,
   "metadata": {},
   "outputs": [],
   "source": [
    "# Please write your codes here"
   ]
  }
 ],
 "metadata": {
  "kernelspec": {
   "display_name": "Python 3 (ipykernel)",
   "language": "python",
   "name": "python3"
  },
  "language_info": {
   "codemirror_mode": {
    "name": "ipython",
    "version": 3
   },
   "file_extension": ".py",
   "mimetype": "text/x-python",
   "name": "python",
   "nbconvert_exporter": "python",
   "pygments_lexer": "ipython3",
   "version": "3.10.8"
  }
 },
 "nbformat": 4,
 "nbformat_minor": 2
}
