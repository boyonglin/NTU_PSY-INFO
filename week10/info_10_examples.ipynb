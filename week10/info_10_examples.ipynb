{
 "cells": [
  {
   "cell_type": "markdown",
   "metadata": {},
   "source": [
    "# Psychoinformatics - Week 10 (Examples)\n",
    "by Tsung-Ren (Tren) Huang (trhuang@g.ntu.edu.tw)"
   ]
  },
  {
   "cell_type": "code",
   "execution_count": 7,
   "metadata": {},
   "outputs": [],
   "source": [
    "import numpy as np\n",
    "import numpy.random as rand\n",
    "import numpy.linalg as la\n",
    "\n",
    "\n",
    "from matplotlib.pyplot import *\n",
    "import pylab as plt\n",
    "import ipywidgets as widgets\n",
    "from ipywidgets import interact\n",
    "%matplotlib inline\n",
    "\n",
    "from sklearn import *\n",
    "\n",
    "import warnings\n",
    "warnings.filterwarnings(\"ignore\")\n",
    "warnings.simplefilter('ignore', DeprecationWarning)"
   ]
  },
  {
   "cell_type": "markdown",
   "metadata": {},
   "source": [
    "## 0 Double Descent\n",
    "\n",
    "This example was created by Preetum Nakkiran @ https://windowsontheory.org/2019/12/05/deep-double-descent/ .\n",
    "\n",
    "While the <a href=https://en.wikipedia.org/wiki/Legendre_polynomials>Legendre polynomials</a> show the double descent phenomenon, <font color=red>the <a href=https://en.wikipedia.org/wiki/Vandermonde_polynomial>Vandermonde polynomials</a> do not</font>. This is because a Legendre polynomial of n degree has a norm of 2/(2n+1) < 1 for all positive integers n:\n",
    "<img src=https://wikimedia.org/api/rest_v1/media/math/render/svg/4781678915fce2cbbb7add5db352eca4e1cfa71f>\n",
    "\n",
    "The norm of a function measures how far it deviates from a zeor function. Because a Legendre polynomial of a high n has a norm~0, it contributes little to capture the variance of the ground-truth function (i.e., Y). Because the model fitting here is done by <a href=https://en.wikipedia.org/wiki/Moore%E2%80%93Penrose_inverse>pseudo-inverse</a> and pseudo-inverse prefers a model of the smallest norm, the fitted model will comprise a finite number of low-degree Legendre polynomials."
   ]
  },
  {
   "cell_type": "code",
   "execution_count": 10,
   "metadata": {},
   "outputs": [
    {
     "data": {
      "application/vnd.jupyter.widget-view+json": {
       "model_id": "2af85d9ad1a1413cabb9f6239d6e4164",
       "version_major": 2,
       "version_minor": 0
      },
      "text/plain": [
       "interactive(children=(IntSlider(value=19, description='d', min=1), Checkbox(value=False, description='save'), …"
      ]
     },
     "metadata": {},
     "output_type": "display_data"
    }
   ],
   "source": [
    "n = 20\n",
    "sigma = 0.3 # stdev of noise\n",
    "\n",
    "def arctan_gt(x):\n",
    "  return np.arctan(5*x)\n",
    "\n",
    "def cubic_gt(x):\n",
    "  return poly(x, np.array([0, -1, 0, 1]), 3)\n",
    "\n",
    "def relu(x):\n",
    "  return x*(x >= 0)\n",
    "\n",
    "#ground_truth = arctan_gt\n",
    "#ground_truth = relu\n",
    "ground_truth = cubic_gt\n",
    "\n",
    "def Vand(x, d):\n",
    "  ''' Vandermonde matrix for pts x, to degree d '''\n",
    "  X = np.array([x**i for i in range(0, d+1)]).T\n",
    "  return X\n",
    "\n",
    "G = np.polynomial.legendre.legvander # Legendre polynomial basis\n",
    "#G = Vand # uncomment this to use Vandermonde basis\n",
    "\n",
    "def poly(pts, beta, d):\n",
    "  return G(pts, d).dot(beta)\n",
    "\n",
    "## Compute ground-truth polynomial + noise\n",
    "\n",
    "x = np.linspace(-1, 1, n)\n",
    "y = ground_truth(x)\n",
    "#y += sigma*rand.normal(size=n) # random noise\n",
    "y += (rand.uniform(size=n) <= 0.2)*sigma # random L0 noise\n",
    "y -= (rand.uniform(size=n) <= 0.1)*2*sigma # random L0 noise\n",
    "\n",
    "xdense = np.linspace(-1, 1, 100) # points to plot\n",
    "xdense = np.sort(np.concatenate((x, xdense))) # add in the sample points explicitly\n",
    "ygt = ground_truth(xdense)\n",
    "\n",
    "def solve_reg(A, y, lamb):\n",
    "  return la.solve(A.T.dot(A) + lamb * np.identity(A.shape[1]), A.T.dot(y))\n",
    "\n",
    "def run(d, save=False):\n",
    "  ''' Compute the regressor for degree d, and plot the solution. '''\n",
    "\n",
    "  betaHat = la.pinv(G(x, d)).dot(y) # unregularized\n",
    "  #betaHat = solve_reg(G(x, d), y, lamb=0.1)# regularized\n",
    "\n",
    "  plt.figure(figsize=(7, 7))\n",
    "  plt.plot(xdense, ygt, label='ground-truth')\n",
    "  plt.scatter(x, y, c='r', label='samples')\n",
    "  plt.plot(xdense, poly(xdense, betaHat, d), label='model')\n",
    "  plt.ylim(-2, 2)\n",
    "  #plt.axis('off')\n",
    "  plt.legend()\n",
    "  if save: plt.savefig('figure.png')\n",
    "  print('norm: ', la.norm(betaHat))\n",
    "\n",
    "interact(run, d=widgets.IntSlider(min=1, max=100, step=1, value=n-1));"
   ]
  },
  {
   "cell_type": "markdown",
   "metadata": {},
   "source": [
    "## 1 Hyperparameter Tuning"
   ]
  },
  {
   "cell_type": "markdown",
   "metadata": {},
   "source": [
    "### 1.0 The IRIS dataset\n",
    "<img src=\"https://upload.wikimedia.org/wikipedia/commons/5/56/Iris_dataset_scatterplot.svg\" width=50%>"
   ]
  },
  {
   "cell_type": "code",
   "execution_count": 2,
   "metadata": {},
   "outputs": [
    {
     "name": "stdout",
     "output_type": "stream",
     "text": [
      "[[5.1 3.5 1.4 0.2]\n",
      " [4.9 3.  1.4 0.2]\n",
      " [4.7 3.2 1.3 0.2]\n",
      " [4.6 3.1 1.5 0.2]\n",
      " [5.  3.6 1.4 0.2]\n",
      " [5.4 3.9 1.7 0.4]\n",
      " [4.6 3.4 1.4 0.3]\n",
      " [5.  3.4 1.5 0.2]\n",
      " [4.4 2.9 1.4 0.2]\n",
      " [4.9 3.1 1.5 0.1]\n",
      " [5.4 3.7 1.5 0.2]\n",
      " [4.8 3.4 1.6 0.2]\n",
      " [4.8 3.  1.4 0.1]\n",
      " [4.3 3.  1.1 0.1]\n",
      " [5.8 4.  1.2 0.2]\n",
      " [5.7 4.4 1.5 0.4]\n",
      " [5.4 3.9 1.3 0.4]\n",
      " [5.1 3.5 1.4 0.3]\n",
      " [5.7 3.8 1.7 0.3]\n",
      " [5.1 3.8 1.5 0.3]\n",
      " [5.4 3.4 1.7 0.2]\n",
      " [5.1 3.7 1.5 0.4]\n",
      " [4.6 3.6 1.  0.2]\n",
      " [5.1 3.3 1.7 0.5]\n",
      " [4.8 3.4 1.9 0.2]\n",
      " [5.  3.  1.6 0.2]\n",
      " [5.  3.4 1.6 0.4]\n",
      " [5.2 3.5 1.5 0.2]\n",
      " [5.2 3.4 1.4 0.2]\n",
      " [4.7 3.2 1.6 0.2]\n",
      " [4.8 3.1 1.6 0.2]\n",
      " [5.4 3.4 1.5 0.4]\n",
      " [5.2 4.1 1.5 0.1]\n",
      " [5.5 4.2 1.4 0.2]\n",
      " [4.9 3.1 1.5 0.2]\n",
      " [5.  3.2 1.2 0.2]\n",
      " [5.5 3.5 1.3 0.2]\n",
      " [4.9 3.6 1.4 0.1]\n",
      " [4.4 3.  1.3 0.2]\n",
      " [5.1 3.4 1.5 0.2]\n",
      " [5.  3.5 1.3 0.3]\n",
      " [4.5 2.3 1.3 0.3]\n",
      " [4.4 3.2 1.3 0.2]\n",
      " [5.  3.5 1.6 0.6]\n",
      " [5.1 3.8 1.9 0.4]\n",
      " [4.8 3.  1.4 0.3]\n",
      " [5.1 3.8 1.6 0.2]\n",
      " [4.6 3.2 1.4 0.2]\n",
      " [5.3 3.7 1.5 0.2]\n",
      " [5.  3.3 1.4 0.2]\n",
      " [7.  3.2 4.7 1.4]\n",
      " [6.4 3.2 4.5 1.5]\n",
      " [6.9 3.1 4.9 1.5]\n",
      " [5.5 2.3 4.  1.3]\n",
      " [6.5 2.8 4.6 1.5]\n",
      " [5.7 2.8 4.5 1.3]\n",
      " [6.3 3.3 4.7 1.6]\n",
      " [4.9 2.4 3.3 1. ]\n",
      " [6.6 2.9 4.6 1.3]\n",
      " [5.2 2.7 3.9 1.4]\n",
      " [5.  2.  3.5 1. ]\n",
      " [5.9 3.  4.2 1.5]\n",
      " [6.  2.2 4.  1. ]\n",
      " [6.1 2.9 4.7 1.4]\n",
      " [5.6 2.9 3.6 1.3]\n",
      " [6.7 3.1 4.4 1.4]\n",
      " [5.6 3.  4.5 1.5]\n",
      " [5.8 2.7 4.1 1. ]\n",
      " [6.2 2.2 4.5 1.5]\n",
      " [5.6 2.5 3.9 1.1]\n",
      " [5.9 3.2 4.8 1.8]\n",
      " [6.1 2.8 4.  1.3]\n",
      " [6.3 2.5 4.9 1.5]\n",
      " [6.1 2.8 4.7 1.2]\n",
      " [6.4 2.9 4.3 1.3]\n",
      " [6.6 3.  4.4 1.4]\n",
      " [6.8 2.8 4.8 1.4]\n",
      " [6.7 3.  5.  1.7]\n",
      " [6.  2.9 4.5 1.5]\n",
      " [5.7 2.6 3.5 1. ]\n",
      " [5.5 2.4 3.8 1.1]\n",
      " [5.5 2.4 3.7 1. ]\n",
      " [5.8 2.7 3.9 1.2]\n",
      " [6.  2.7 5.1 1.6]\n",
      " [5.4 3.  4.5 1.5]\n",
      " [6.  3.4 4.5 1.6]\n",
      " [6.7 3.1 4.7 1.5]\n",
      " [6.3 2.3 4.4 1.3]\n",
      " [5.6 3.  4.1 1.3]\n",
      " [5.5 2.5 4.  1.3]\n",
      " [5.5 2.6 4.4 1.2]\n",
      " [6.1 3.  4.6 1.4]\n",
      " [5.8 2.6 4.  1.2]\n",
      " [5.  2.3 3.3 1. ]\n",
      " [5.6 2.7 4.2 1.3]\n",
      " [5.7 3.  4.2 1.2]\n",
      " [5.7 2.9 4.2 1.3]\n",
      " [6.2 2.9 4.3 1.3]\n",
      " [5.1 2.5 3.  1.1]\n",
      " [5.7 2.8 4.1 1.3]\n",
      " [6.3 3.3 6.  2.5]\n",
      " [5.8 2.7 5.1 1.9]\n",
      " [7.1 3.  5.9 2.1]\n",
      " [6.3 2.9 5.6 1.8]\n",
      " [6.5 3.  5.8 2.2]\n",
      " [7.6 3.  6.6 2.1]\n",
      " [4.9 2.5 4.5 1.7]\n",
      " [7.3 2.9 6.3 1.8]\n",
      " [6.7 2.5 5.8 1.8]\n",
      " [7.2 3.6 6.1 2.5]\n",
      " [6.5 3.2 5.1 2. ]\n",
      " [6.4 2.7 5.3 1.9]\n",
      " [6.8 3.  5.5 2.1]\n",
      " [5.7 2.5 5.  2. ]\n",
      " [5.8 2.8 5.1 2.4]\n",
      " [6.4 3.2 5.3 2.3]\n",
      " [6.5 3.  5.5 1.8]\n",
      " [7.7 3.8 6.7 2.2]\n",
      " [7.7 2.6 6.9 2.3]\n",
      " [6.  2.2 5.  1.5]\n",
      " [6.9 3.2 5.7 2.3]\n",
      " [5.6 2.8 4.9 2. ]\n",
      " [7.7 2.8 6.7 2. ]\n",
      " [6.3 2.7 4.9 1.8]\n",
      " [6.7 3.3 5.7 2.1]\n",
      " [7.2 3.2 6.  1.8]\n",
      " [6.2 2.8 4.8 1.8]\n",
      " [6.1 3.  4.9 1.8]\n",
      " [6.4 2.8 5.6 2.1]\n",
      " [7.2 3.  5.8 1.6]\n",
      " [7.4 2.8 6.1 1.9]\n",
      " [7.9 3.8 6.4 2. ]\n",
      " [6.4 2.8 5.6 2.2]\n",
      " [6.3 2.8 5.1 1.5]\n",
      " [6.1 2.6 5.6 1.4]\n",
      " [7.7 3.  6.1 2.3]\n",
      " [6.3 3.4 5.6 2.4]\n",
      " [6.4 3.1 5.5 1.8]\n",
      " [6.  3.  4.8 1.8]\n",
      " [6.9 3.1 5.4 2.1]\n",
      " [6.7 3.1 5.6 2.4]\n",
      " [6.9 3.1 5.1 2.3]\n",
      " [5.8 2.7 5.1 1.9]\n",
      " [6.8 3.2 5.9 2.3]\n",
      " [6.7 3.3 5.7 2.5]\n",
      " [6.7 3.  5.2 2.3]\n",
      " [6.3 2.5 5.  1.9]\n",
      " [6.5 3.  5.2 2. ]\n",
      " [6.2 3.4 5.4 2.3]\n",
      " [5.9 3.  5.1 1.8]]\n",
      "[0 0 0 0 0 0 0 0 0 0 0 0 0 0 0 0 0 0 0 0 0 0 0 0 0 0 0 0 0 0 0 0 0 0 0 0 0\n",
      " 0 0 0 0 0 0 0 0 0 0 0 0 0 1 1 1 1 1 1 1 1 1 1 1 1 1 1 1 1 1 1 1 1 1 1 1 1\n",
      " 1 1 1 1 1 1 1 1 1 1 1 1 1 1 1 1 1 1 1 1 1 1 1 1 1 1 2 2 2 2 2 2 2 2 2 2 2\n",
      " 2 2 2 2 2 2 2 2 2 2 2 2 2 2 2 2 2 2 2 2 2 2 2 2 2 2 2 2 2 2 2 2 2 2 2 2 2\n",
      " 2 2]\n"
     ]
    }
   ],
   "source": [
    "iris = datasets.load_iris()\n",
    "X=iris.data\n",
    "Y=iris.target\n",
    "print(X)\n",
    "print(Y)"
   ]
  },
  {
   "cell_type": "code",
   "execution_count": 3,
   "metadata": {},
   "outputs": [
    {
     "name": "stdout",
     "output_type": "stream",
     "text": [
      "['sepal length (cm)', 'sepal width (cm)', 'petal length (cm)', 'petal width (cm)']\n"
     ]
    },
    {
     "data": {
      "image/png": "[encoded data removed]",
      "text/plain": [
       "<Figure size 1000x500 with 16 Axes>"
      ]
     },
     "metadata": {},
     "output_type": "display_data"
    }
   ],
   "source": [
    "import pandas as pd\n",
    "print(iris.feature_names)\n",
    "df = pd.DataFrame(X, columns=['sepal length','sepal width','petal length','petal width'])\n",
    "pd.plotting.scatter_matrix(df, figsize=(10,5));"
   ]
  },
  {
   "cell_type": "code",
   "execution_count": 4,
   "metadata": {},
   "outputs": [
    {
     "data": {
      "text/plain": [
       "['sepal length (cm)',\n",
       " 'sepal width (cm)',\n",
       " 'petal length (cm)',\n",
       " 'petal width (cm)']"
      ]
     },
     "execution_count": 4,
     "metadata": {},
     "output_type": "execute_result"
    }
   ],
   "source": [
    "iris.feature_names"
   ]
  },
  {
   "cell_type": "markdown",
   "metadata": {},
   "source": [
    "### 1.1 Support Vector Classifier"
   ]
  },
  {
   "cell_type": "code",
   "execution_count": 5,
   "metadata": {},
   "outputs": [
    {
     "name": "stdout",
     "output_type": "stream",
     "text": [
      "Training-Testing overlaps: set()\n",
      "Y_train: 45 45 45 Y_test 5 5 5 \n",
      "\n",
      "Training-Testing overlaps: set()\n",
      "Y_train: 45 45 45 Y_test 5 5 5 \n",
      "\n",
      "Training-Testing overlaps: set()\n",
      "Y_train: 45 45 45 Y_test 5 5 5 \n",
      "\n",
      "Training-Testing overlaps: set()\n",
      "Y_train: 45 45 45 Y_test 5 5 5 \n",
      "\n",
      "Training-Testing overlaps: set()\n",
      "Y_train: 45 45 45 Y_test 5 5 5 \n",
      "\n"
     ]
    }
   ],
   "source": [
    "sss=model_selection.StratifiedShuffleSplit(n_splits=5,test_size=0.1)\n",
    "for train_index, test_index in sss.split(X, Y):\n",
    "    print('Training-Testing overlaps:',set(train_index).intersection(test_index))\n",
    "    X_train, X_test = X[train_index], X[test_index]\n",
    "    Y_train, Y_test = Y[train_index], Y[test_index]\n",
    "    print(\"Y_train:\",sum(Y_train==0),sum(Y_train==1),sum(Y_train==2),\"Y_test\",sum(Y_test==0),sum(Y_test==1),sum(Y_test==2),'\\n')"
   ]
  },
  {
   "cell_type": "code",
   "execution_count": 12,
   "metadata": {},
   "outputs": [
    {
     "name": "stdout",
     "output_type": "stream",
     "text": [
      "0.8\n"
     ]
    }
   ],
   "source": [
    "acc=[]\n",
    "for train_index, test_index in sss.split(X, Y):\n",
    "    X_train, X_test = X[train_index], X[test_index]\n",
    "    Y_train, Y_test = Y[train_index], Y[test_index]\n",
    "    model=svm.SVC(C=10)\n",
    "    model.fit(X_train[:,0:2],Y_train) #training\n",
    "    acc.append(model.predict(X_test[:,0:2])==Y_test) #testing\n",
    "print(np.mean(acc))"
   ]
  },
  {
   "cell_type": "markdown",
   "metadata": {},
   "source": [
    "### 1.2 Grid Search (Exhaustive Search)"
   ]
  },
  {
   "cell_type": "code",
   "execution_count": 5,
   "metadata": {},
   "outputs": [
    {
     "name": "stdout",
     "output_type": "stream",
     "text": [
      "[1e-07, 1e-06, 1e-05, 0.0001, 0.001, 0.01, 0.1, 1, 10, 100, 1000, 10000, 100000, 1000000]\n"
     ]
    }
   ],
   "source": [
    "C=[10**i for i in range(-7,7)]\n",
    "print(C)"
   ]
  },
  {
   "cell_type": "code",
   "execution_count": 13,
   "metadata": {},
   "outputs": [
    {
     "name": "stdout",
     "output_type": "stream",
     "text": [
      "-6 -5 -4 -3 -2 -1 0 1 2 3 4 5 Search time: 0.36093902587890625\n",
      "[0.7733333333333334, 0.72, 0.72, 0.7866666666666665, 0.8000000000000002, 0.7866666666666667, 0.8266666666666665, 0.8133333333333332, 0.8133333333333332, 0.7733333333333333, 0.76, 0.8266666666666665]\n"
     ]
    },
    {
     "data": {
      "image/png": "[encoded data removed]",
      "text/plain": [
       "<Figure size 640x480 with 1 Axes>"
      ]
     },
     "metadata": {},
     "output_type": "display_data"
    }
   ],
   "source": [
    "import time\n",
    "xx=[]\n",
    "yy=[]\n",
    "t0=time.time()\n",
    "for i in range(-6,6):\n",
    "    print(i,end=' ')\n",
    "    xx.append(10**i)\n",
    "    acc=[]\n",
    "    for train_index, test_index in sss.split(X, Y):\n",
    "        X_train, X_test = X[train_index], X[test_index]\n",
    "        Y_train, Y_test = Y[train_index], Y[test_index]\n",
    "        model=svm.SVC(C=xx[-1]) # tuning the hyperparameter C\n",
    "        model.fit(X_train[:,0:2],Y_train) #training\n",
    "        acc.append(np.mean(model.predict(X_test[:,0:2])==Y_test)) #testing\n",
    "    yy.append(np.mean(acc))\n",
    "print('Search time:', time.time()-t0)\n",
    "print(yy)\n",
    "plot(xx,yy,'o-');"
   ]
  },
  {
   "cell_type": "code",
   "execution_count": 27,
   "metadata": {},
   "outputs": [
    {
     "name": "stdout",
     "output_type": "stream",
     "text": [
      "C: [1e-06 1e-05 0.0001 0.001 0.01 0.1 1 10 100 1000 10000 100000]\n",
      "Mean Test Score: [0.78666667 0.78666667 0.78666667 0.78666667 0.78666667 0.77333333\n",
      " 0.82       0.81333333 0.81333333 0.78666667 0.78       0.75333333]\n",
      "Best C: {'C': 1}\n"
     ]
    }
   ],
   "source": [
    "model=svm.SVC()\n",
    "parameters={'C':[10**i for i in range(-6,6)]}\n",
    "clf=model_selection.GridSearchCV(model, parameters, cv=5) #Try RandomizedSearchCV()\n",
    "clf.fit(X[:,0:2], Y)\n",
    "print('C:',clf.cv_results_['param_C'])\n",
    "print('Mean Test Score:',clf.cv_results_['mean_test_score'])\n",
    "print('Best C:',clf.best_params_)"
   ]
  },
  {
   "cell_type": "markdown",
   "metadata": {},
   "source": [
    "### 1.3 HyperOpt (Bayesian Optimization)"
   ]
  },
  {
   "cell_type": "code",
   "execution_count": 16,
   "metadata": {},
   "outputs": [
    {
     "name": "stdout",
     "output_type": "stream",
     "text": [
      "100%|█| 1000/1000 [00:00<00:00, 2198.30trial/s, best loss: 9.999245975398551e-05\n",
      "{'x': -0.009999622980592093}\n"
     ]
    }
   ],
   "source": [
    "#!pip install git+https://github.com/hyperopt/hyperopt.git\n",
    "from hyperopt import fmin, tpe, rand, hp\n",
    "\n",
    "def F(x):\n",
    "    return(x**2)\n",
    "\n",
    "best_x = fmin(fn=F,\n",
    "    space=hp.uniform('x', -6, 6),\n",
    "    algo=rand.suggest,\n",
    "    max_evals=1000)\n",
    "print(best_x)"
   ]
  },
  {
   "cell_type": "code",
   "execution_count": 17,
   "metadata": {},
   "outputs": [
    {
     "name": "stdout",
     "output_type": "stream",
     "text": [
      "100%|██████| 100/100 [00:01<00:00, 68.43trial/s, best loss: 0.09333333333333338]\n",
      "Search Time: 1.4651687145233154\n",
      "{'x': -0.15030910625174365}\n"
     ]
    }
   ],
   "source": [
    "import time\n",
    "\n",
    "def F(x):\n",
    "    acc=[]\n",
    "    for train_index, test_index in sss.split(X, Y):\n",
    "        X_train, X_test = X[train_index], X[test_index]\n",
    "        Y_train, Y_test = Y[train_index], Y[test_index]\n",
    "        model=svm.SVC(C=10**x) # tuning the hyperparameter C\n",
    "        model.fit(X_train[:,0:2],Y_train) #training\n",
    "        acc.append(np.mean(model.predict(X_test[:,0:2])==Y_test)) #testing\n",
    "    return(1-np.mean(acc)) # error\n",
    "\n",
    "t0=time.time()\n",
    "best_x = fmin(fn=F,\n",
    "    space=hp.uniform('x', -5, 5),\n",
    "    algo=tpe.suggest, # try rand.suggest\n",
    "    max_evals=100)\n",
    "print('Search Time:',time.time()-t0)\n",
    "print(best_x)"
   ]
  },
  {
   "cell_type": "markdown",
   "metadata": {},
   "source": [
    "### 1.4 HyperBand\n",
    "!! This package is not working for Tren in 2023 !! \n",
    "\n",
    "!! Neither do https://github.com/thuijskens/scikit-hyperband !!"
   ]
  },
  {
   "cell_type": "code",
   "execution_count": 10,
   "metadata": {},
   "outputs": [
    {
     "name": "stdout",
     "output_type": "stream",
     "text": [
      "dict_keys(['C', 'break_ties', 'cache_size', 'class_weight', 'coef0', 'decision_function_shape', 'degree', 'gamma', 'kernel', 'max_iter', 'probability', 'random_state', 'shrinking', 'tol', 'verbose'])\n",
      "{'C': 630957.3444801117, 'max_iter': -1}\n",
      "0.7333333333333333\n"
     ]
    }
   ],
   "source": [
    "#!pip install git+https://github.com/civisanalytics/civisml-extensions\n",
    "from civismlext.hyperband import HyperbandSearchCV\n",
    "model = svm.SVC()\n",
    "print(model.get_params().keys())\n",
    "\n",
    "clf = HyperbandSearchCV(\n",
    "    model,\n",
    "    param_distributions={'C': [10**i for i in np.arange(-10,10,0.1)]},\n",
    "    cost_parameter_max={'max_iter': -1},\n",
    "    cost_parameter_min={'max_iter': -1})\n",
    "clf.fit(X[:,0:2],Y)\n",
    "\n",
    "print(clf.best_params_)\n",
    "print(clf.best_score_)"
   ]
  },
  {
   "cell_type": "markdown",
   "metadata": {},
   "source": [
    "## 2 Ensemble Learning"
   ]
  },
  {
   "cell_type": "markdown",
   "metadata": {},
   "source": [
    "### 2.0 Decision Tree"
   ]
  },
  {
   "cell_type": "code",
   "execution_count": 18,
   "metadata": {},
   "outputs": [
    {
     "name": "stdout",
     "output_type": "stream",
     "text": [
      "Training-Testing overlaps: set()\n",
      "Y_train: 40 40 40 Y_test 10 10 10 \n",
      "\n",
      "Training-Testing overlaps: set()\n",
      "Y_train: 40 40 40 Y_test 10 10 10 \n",
      "\n",
      "Training-Testing overlaps: set()\n",
      "Y_train: 40 40 40 Y_test 10 10 10 \n",
      "\n",
      "Training-Testing overlaps: set()\n",
      "Y_train: 40 40 40 Y_test 10 10 10 \n",
      "\n",
      "Training-Testing overlaps: set()\n",
      "Y_train: 40 40 40 Y_test 10 10 10 \n",
      "\n"
     ]
    }
   ],
   "source": [
    "skf=model_selection.StratifiedKFold(n_splits=5,shuffle=True)\n",
    "for train_index, test_index in skf.split(X, Y):\n",
    "    print('Training-Testing overlaps:',set(train_index).intersection(test_index))\n",
    "    X_train, X_test = X[train_index], X[test_index]\n",
    "    Y_train, Y_test = Y[train_index], Y[test_index]\n",
    "    print(\"Y_train:\",sum(Y_train==0),sum(Y_train==1),sum(Y_train==2),\"Y_test\",sum(Y_test==0),sum(Y_test==1),sum(Y_test==2),'\\n')"
   ]
  },
  {
   "cell_type": "code",
   "execution_count": 19,
   "metadata": {},
   "outputs": [
    {
     "name": "stdout",
     "output_type": "stream",
     "text": [
      "0.7133333333333334\n"
     ]
    }
   ],
   "source": [
    "acc=[]\n",
    "for train_index, test_index in skf.split(X, Y):\n",
    "    X_train, X_test = X[train_index], X[test_index]\n",
    "    Y_train, Y_test = Y[train_index], Y[test_index]\n",
    "    model=tree.DecisionTreeClassifier()\n",
    "    model.fit(X_train[:,0:2],Y_train) #training\n",
    "    acc.append(model.predict(X_test[:,0:2])==Y_test) #testing\n",
    "print(np.mean(acc))"
   ]
  },
  {
   "cell_type": "markdown",
   "metadata": {},
   "source": [
    "### 2.1 Random Forest"
   ]
  },
  {
   "cell_type": "code",
   "execution_count": 20,
   "metadata": {},
   "outputs": [
    {
     "name": "stdout",
     "output_type": "stream",
     "text": [
      "0.7666666666666667\n"
     ]
    }
   ],
   "source": [
    "skf=model_selection.StratifiedKFold(n_splits=5,shuffle=True)\n",
    "acc=[]\n",
    "for train_index, test_index in skf.split(X, Y):\n",
    "    X_train, X_test = X[train_index], X[test_index]\n",
    "    Y_train, Y_test = Y[train_index], Y[test_index]\n",
    "    model=ensemble.RandomForestClassifier(n_estimators=100, max_depth=2)\n",
    "    model.fit(X_train[:,0:2],Y_train) #training\n",
    "    acc.append(model.predict(X_test[:,0:2])==Y_test) #testing\n",
    "print(np.mean(acc))"
   ]
  },
  {
   "cell_type": "code",
   "execution_count": 29,
   "metadata": {},
   "outputs": [
    {
     "name": "stdout",
     "output_type": "stream",
     "text": [
      "{'max_features': 1, 'max_depth': 3, 'criterion': 'gini', 'bootstrap': True}\n",
      "0.8\n"
     ]
    }
   ],
   "source": [
    "model=ensemble.RandomForestClassifier()\n",
    "\n",
    "parameters = {\n",
    "    'max_depth': [3, None],\n",
    "    'max_features': [1, 2, 3],\n",
    "    'criterion': ['gini', 'entropy'],\n",
    "    'bootstrap': [True, False]\n",
    "}\n",
    "\n",
    "clf=model_selection.RandomizedSearchCV(model, parameters, cv=5)\n",
    "clf.fit(X[:,0:2],Y)\n",
    "\n",
    "print(clf.best_params_)\n",
    "print(clf.best_score_)"
   ]
  },
  {
   "cell_type": "markdown",
   "metadata": {},
   "source": [
    "### 2.2 Bagging (Bootstrap Aggregating)"
   ]
  },
  {
   "cell_type": "code",
   "execution_count": 31,
   "metadata": {},
   "outputs": [
    {
     "name": "stdout",
     "output_type": "stream",
     "text": [
      "0.6666666666666666\n"
     ]
    }
   ],
   "source": [
    "acc=[]\n",
    "for train_index, test_index in skf.split(X, Y):\n",
    "    X_train, X_test = X[train_index], X[test_index]\n",
    "    Y_train, Y_test = Y[train_index], Y[test_index]\n",
    "    model=ensemble.BaggingClassifier(tree.DecisionTreeClassifier(max_depth=1),max_samples=1.0, max_features=1.0, n_estimators=100)\n",
    "    #model=ensemble.BaggingClassifier(svm.SVC(0.1),max_samples=1.0, max_features=1.0, n_estimators=100)\n",
    "    model.fit(X_train[:,0:2],Y_train) #training\n",
    "    acc.append(model.predict(X_test[:,0:2])==Y_test) #testing\n",
    "print(np.mean(acc))"
   ]
  },
  {
   "cell_type": "markdown",
   "metadata": {},
   "source": [
    "### 2.3 Boosting"
   ]
  },
  {
   "cell_type": "markdown",
   "metadata": {},
   "source": [
    "#### 2.3.1 AdaBoost"
   ]
  },
  {
   "cell_type": "code",
   "execution_count": 32,
   "metadata": {},
   "outputs": [
    {
     "name": "stdout",
     "output_type": "stream",
     "text": [
      "0.6933333333333334\n"
     ]
    }
   ],
   "source": [
    "acc=[]\n",
    "for train_index, test_index in skf.split(X, Y):\n",
    "    X_train, X_test = X[train_index], X[test_index]\n",
    "    Y_train, Y_test = Y[train_index], Y[test_index]\n",
    "    #model=ensemble.AdaBoostClassifier(svm.SVC(0.1),n_estimators=100,algorithm=\"SAMME\")\n",
    "    model=ensemble.AdaBoostClassifier(tree.DecisionTreeClassifier(max_depth=1),n_estimators=100,algorithm=\"SAMME\")\n",
    "    model.fit(X_train[:,0:2],Y_train) #training\n",
    "    acc.append(model.predict(X_test[:,0:2])==Y_test) #testing\n",
    "print(np.mean(acc))"
   ]
  },
  {
   "cell_type": "markdown",
   "metadata": {},
   "source": [
    "#### 2.3.2 Gradient Boosting\n",
    "\n",
    "The following two implementations are conceptually identical but XGBoost is more resource-efficient and can be parallelized/distributed."
   ]
  },
  {
   "cell_type": "markdown",
   "metadata": {},
   "source": [
    "##### 2.3.2.1 Scikit-learn's Gradient Tree Boosting"
   ]
  },
  {
   "cell_type": "code",
   "execution_count": 33,
   "metadata": {},
   "outputs": [
    {
     "name": "stdout",
     "output_type": "stream",
     "text": [
      "0.7133333333333334\n"
     ]
    }
   ],
   "source": [
    "acc=[]\n",
    "for train_index, test_index in skf.split(X, Y):\n",
    "    X_train, X_test = X[train_index], X[test_index]\n",
    "    Y_train, Y_test = Y[train_index], Y[test_index]\n",
    "    model=ensemble.GradientBoostingClassifier(max_depth=1, n_estimators=1000)\n",
    "    model.fit(X_train[:,0:2],Y_train) #training\n",
    "    acc.append(model.predict(X_test[:,0:2])==Y_test) #testing\n",
    "print(np.mean(acc))"
   ]
  },
  {
   "cell_type": "markdown",
   "metadata": {},
   "source": [
    "##### 2.3.2.2 XGBoost (eXtreme Gradient Boosting)"
   ]
  },
  {
   "cell_type": "code",
   "execution_count": 34,
   "metadata": {},
   "outputs": [
    {
     "name": "stdout",
     "output_type": "stream",
     "text": [
      "0.6866666666666666\n"
     ]
    }
   ],
   "source": [
    "#!conda install -c conda-forge xgboost \n",
    "import xgboost\n",
    "\n",
    "acc=[]\n",
    "for train_index, test_index in skf.split(X, Y):\n",
    "    X_train, X_test = X[train_index], X[test_index]\n",
    "    Y_train, Y_test = Y[train_index], Y[test_index]\n",
    "    model=xgboost.XGBClassifier(n_estimators=1000, use_label_encoder=False, eval_metric='mlogloss')\n",
    "    model.fit(X_train[:,0:2],Y_train) #training\n",
    "    acc.append(model.predict(X_test[:,0:2])==Y_test) #testing\n",
    "print(np.mean(acc))"
   ]
  }
 ],
 "metadata": {
  "kernelspec": {
   "display_name": "Python 3 (ipykernel)",
   "language": "python",
   "name": "python3"
  },
  "language_info": {
   "codemirror_mode": {
    "name": "ipython",
    "version": 3
   },
   "file_extension": ".py",
   "mimetype": "text/x-python",
   "name": "python",
   "nbconvert_exporter": "python",
   "pygments_lexer": "ipython3",
   "version": "3.10.8"
  }
 },
 "nbformat": 4,
 "nbformat_minor": 2
}
