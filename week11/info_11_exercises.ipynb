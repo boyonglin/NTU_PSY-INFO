{
  "cells": [
    {
      "cell_type": "markdown",
      "metadata": {
        "id": "XKmzR_wg7igq"
      },
      "source": [
        "# Psychoinformatics - Week 11 (Exercises)\n",
        "by boyonglin (r10945002@ntu.edu.tw)"
      ]
    },
    {
      "cell_type": "code",
      "execution_count": 36,
      "metadata": {
        "id": "X9_TZZHg7igs",
        "scrolled": true
      },
      "outputs": [],
      "source": [
        "%config IPCompleter.greedy=True\n",
        "%matplotlib inline\n",
        "\n",
        "from numpy import *\n",
        "from matplotlib.pyplot import *\n",
        "from IPython.display import *\n",
        "import warnings\n",
        "warnings.simplefilter('ignore', DeprecationWarning)\n",
        "from sklearn import *\n",
        "\n",
        "iris = datasets.load_iris()\n",
        "X=iris.data; Y=iris.target"
      ]
    },
    {
      "cell_type": "markdown",
      "metadata": {
        "id": "g2ntEGvU7igt"
      },
      "source": [
        "## 1 Performance Tuning of a Neural Net (8 points)"
      ]
    },
    {
      "cell_type": "markdown",
      "metadata": {
        "id": "IQ2QxFiF7igu"
      },
      "source": [
        "### 1.0 Baseline Performance\n",
        "SVM can reach an classifcation accuracy ~ 8x% correct for the HARD Iris problem."
      ]
    },
    {
      "cell_type": "code",
      "execution_count": 30,
      "metadata": {
        "colab": {
          "base_uri": "https://localhost:8080/"
        },
        "id": "l0cJ_dxn7igu",
        "outputId": "3349fbe4-3a4f-4cb5-eed6-e2697e762015"
      },
      "outputs": [
        {
          "name": "stdout",
          "output_type": "stream",
          "text": [
            "0.8\n"
          ]
        }
      ],
      "source": [
        "sss=model_selection.StratifiedShuffleSplit(n_splits=3,test_size=0.1) # (45+45+45) vs. (5+5+5)\n",
        "model=svm.SVC(C=10)\n",
        "acc=[]\n",
        "for train_index, test_index in sss.split(X, Y): # 3-fold cross-validation\n",
        "    X_train, X_test = X[train_index], X[test_index]\n",
        "    Y_train, Y_test = Y[train_index], Y[test_index]\n",
        "    model.fit(X_train[:,0:2],Y_train) #training\n",
        "    acc.append(model.predict(X_test[:,0:2])==Y_test) # testing\n",
        "print(np.mean(acc))"
      ]
    },
    {
      "cell_type": "markdown",
      "metadata": {
        "id": "MxN_lu0Y7igv"
      },
      "source": [
        "### 1.1 Tuning your ANN (4 points)\n",
        "Tune your model hyperparameters (# of layers, # of units in each layer, activation function, optimizer, epochs, batch_size, etc.) to see if you can push your ANN performance up to ~9x% correct for the HARD iris problem."
      ]
    },
    {
      "cell_type": "code",
      "execution_count": 76,
      "metadata": {
        "colab": {
          "base_uri": "https://localhost:8080/"
        },
        "id": "opQH3FBU7igv",
        "outputId": "4e40d84a-8ec0-431e-a248-81ed119c2d76"
      },
      "outputs": [
        {
          "name": "stdout",
          "output_type": "stream",
          "text": [
            "1/1 [==============================] - 0s 118ms/step\n",
            "1/1 [==============================] - 0s 86ms/step\n",
            "1/1 [==============================] - 0s 106ms/step\n",
            "[0.9333333333333333, 0.6666666666666666, 0.8] 0.8000000000000002\n"
          ]
        }
      ],
      "source": [
        "from keras.models import Sequential, clone_model\n",
        "from keras.layers import Dense, Dropout\n",
        "from keras.utils import to_categorical\n",
        "from sklearn.preprocessing import StandardScaler\n",
        "from keras.optimizers import Adam\n",
        "\n",
        "# Normalize input features\n",
        "scaler = StandardScaler()\n",
        "X = scaler.fit_transform(X)\n",
        "\n",
        "model = Sequential()\n",
        "model.add(Dense(units=128, activation='relu', input_dim=2))\n",
        "model.add(Dropout(0.5))\n",
        "model.add(Dense(units=64, activation='relu'))\n",
        "model.add(Dropout(0.5))\n",
        "model.add(Dense(units=32, activation='relu'))\n",
        "model.add(Dense(units=3, activation='softmax'))\n",
        "\n",
        "acc=[]\n",
        "for train_index, test_index in sss.split(X, Y): # 3-fold cross-validation\n",
        "    X_train, X_test = X[train_index], X[test_index]\n",
        "    Y_train, Y_test = Y[train_index], Y[test_index]\n",
        "    new_model=clone_model(model) # Otherwise the old model will keep learning\n",
        "    new_model.compile(loss='categorical_crossentropy',optimizer=Adam(learning_rate=0.01),metrics=['accuracy'])\n",
        "    early_stopping = keras.callbacks.EarlyStopping(monitor='val_loss', patience=50, restore_best_weights=True)\n",
        "    new_model.fit(X_train[:,0:2], to_categorical(Y_train), epochs=300, batch_size=10, validation_split=0.1, callbacks=[early_stopping], verbose=0)\n",
        "    acc.append(np.mean(argmax(new_model.predict(X_test[:,0:2]),1)==Y_test)) # testing\n",
        "print(acc, np.mean(acc))"
      ]
    },
    {
      "cell_type": "markdown",
      "metadata": {
        "id": "zn2YBX-J7igx"
      },
      "source": [
        "### 1.2 Is your (deep) network better than SVM? Why or why not? (4 points)"
      ]
    },
    {
      "cell_type": "markdown",
      "metadata": {
        "id": "IzM2M01x7igx"
      },
      "source": [
        "經過測試，深度神經架構只使用兩個特徵來訓練深度學習網路時，預測準確率難以高於 SVM，可能是因為深度學習網路通常在高維度的數據上表現較好，能夠學習到數據的複雜特徵。如果只有兩個特徵，**數據的維度較低**，過擬合的風險可能增加，因為模型更容易記憶訓練資料。  \n",
        "相反地，SVM 是一種較為簡單的模型，對於數據維度和超參數的要求較低，因此在只有兩個特徵的數據上，SVM 的預測準確率可能會高於深度學習網路。"
      ]
    }
  ],
  "metadata": {
    "colab": {
      "provenance": []
    },
    "kernelspec": {
      "display_name": "Python 3",
      "language": "python",
      "name": "python3"
    },
    "language_info": {
      "codemirror_mode": {
        "name": "ipython",
        "version": 3
      },
      "file_extension": ".py",
      "mimetype": "text/x-python",
      "name": "python",
      "nbconvert_exporter": "python",
      "pygments_lexer": "ipython3",
      "version": "3.10.11"
    }
  },
  "nbformat": 4,
  "nbformat_minor": 0
}
