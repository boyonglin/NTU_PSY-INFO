{
 "cells": [
  {
   "cell_type": "markdown",
   "metadata": {},
   "source": [
    "## Psychoinformatics - Week 1 (Exercises)\n",
    "by bo-yong lin (r10945002@ntu.edu.tw)"
   ]
  },
  {
   "cell_type": "markdown",
   "metadata": {},
   "source": [
    "## 1 Validating the findings about power poses (8 points)\n",
    "Do <a href=\"https://www.youtube.com/watch?v=Ks-_Mh1QhMc\">power poses</a> really work?\n",
    "Let's analyze the data (keller2017.csv) from:\n",
    "\n",
    "Keller, V. N., Johnson, D. J., & Harder, J. A. (2017). <a href=\"https://www.tandfonline.com/doi/abs/10.1080/23743603.2017.1341186\">\n",
    "Meeting your inner super (wo)man: are power poses effective when taught?</a> Comprehensive Results in Social Psychology, 2(1), 106-122.\n",
    "\n",
    "where<br>\n",
    "\n",
    "4 experimental conditions were AC (Aware-Constrictive), AE (Aware-Expansive), UC (Unaware-Constrictive), & UE (Unaware-Expansive)<br>\n",
    "<br>\n",
    "and<br>\n",
    "<br>\n",
    "3 dependent measures were body expansiveness, performance (in a job interview), & hireability scored by 4 independent raters."
   ]
  },
  {
   "cell_type": "markdown",
   "metadata": {},
   "source": [
    "Please construct 3 pandas dataframes df1, and df2, and df3 where <br><br>\n",
    "<b>df1</b>, derived from df, has only 13 columns of interest (cond, expansiveness1-4, performance1-4, hire1-4) and no missing values (2 points) ;<br><br>\n",
    "<b>df2</b>, derived from df1, has 4 columns that average expansiveness1-4 into \"expansiveness\", \"performance1-4\" into \"performance\", & hire1-4 into \"hire\" (df1 & df2 should have the same number of rows) (2 points) ; <br><br>\n",
    "<b>df3</b>, derived from df2, calculates the means of each dependent variable in each condition (2 points) ;\n",
    "\n",
    "Finally, run three two-way ANOVAs to see if there is any statistically significant result for each dependent measure (2 point). See <a href=\"https://www.statology.org/two-way-anova-python/\">this page</a> for an example. "
   ]
  },
  {
   "cell_type": "code",
   "execution_count": 6,
   "metadata": {},
   "outputs": [],
   "source": [
    "import pandas as pd\n",
    "import numpy as np\n",
    "\n",
    "df=pd.read_csv(\"https://ceiba.ntu.edu.tw/course/4671ea/content/keller2017.csv\")"
   ]
  },
  {
   "cell_type": "code",
   "execution_count": 7,
   "metadata": {},
   "outputs": [
    {
     "name": "stdout",
     "output_type": "stream",
     "text": [
      "(194, 13) (194, 4)\n",
      "      expansiveness  performance      hire\n",
      "cond                                      \n",
      "AC         3.586957     3.967391  1.853261\n",
      "AE         3.607955     3.460227  1.982955\n",
      "UC         3.435185     3.717593  1.916667\n",
      "UE         3.685000     3.765000  1.940000\n"
     ]
    }
   ],
   "source": [
    "# df1\n",
    "columns_of_interest = [\n",
    "    'cond',\n",
    "    'expansiveness_1', 'expansiveness_2', 'expansiveness_3', 'expansiveness_4',\n",
    "    'performance_1', 'performance_2', 'performance_3', 'performance_4',\n",
    "    'hire_1', 'hire_2', 'hire_3', 'hire_4'\n",
    "    ]\n",
    "df1 = df[columns_of_interest]\n",
    "df1 = df1.dropna()\n",
    "\n",
    "# df2\n",
    "expansiveness = np.mean(df1.iloc[:, 1:5], 1)\n",
    "performance = np.mean(df1.iloc[:, 5:9], 1)\n",
    "hire = np.mean(df1.iloc[:, 9:13], 1)\n",
    "df2 = pd.DataFrame({df1.columns[0]:df1['cond'], 'expansiveness':expansiveness, 'performance':performance, 'hire':hire})\n",
    "\n",
    "# df3\n",
    "df3=df2.groupby('cond').agg({'expansiveness': np.mean, 'performance': np.mean, 'hire': np.mean})\n",
    "print(df1.shape,df2.shape)\n",
    "print(df3)"
   ]
  },
  {
   "cell_type": "code",
   "execution_count": 8,
   "metadata": {},
   "outputs": [
    {
     "data": {
      "text/html": [
       "<div>\n",
       "<style scoped>\n",
       "    .dataframe tbody tr th:only-of-type {\n",
       "        vertical-align: middle;\n",
       "    }\n",
       "\n",
       "    .dataframe tbody tr th {\n",
       "        vertical-align: top;\n",
       "    }\n",
       "\n",
       "    .dataframe thead th {\n",
       "        text-align: right;\n",
       "    }\n",
       "</style>\n",
       "<table border=\"1\" class=\"dataframe\">\n",
       "  <thead>\n",
       "    <tr style=\"text-align: right;\">\n",
       "      <th></th>\n",
       "      <th>sum_sq</th>\n",
       "      <th>df</th>\n",
       "      <th>F</th>\n",
       "      <th>PR(&gt;F)</th>\n",
       "    </tr>\n",
       "  </thead>\n",
       "  <tbody>\n",
       "    <tr>\n",
       "      <th>C(expansiveness)</th>\n",
       "      <td>1.505296</td>\n",
       "      <td>19.0</td>\n",
       "      <td>1.254341</td>\n",
       "      <td>2.225867e-01</td>\n",
       "    </tr>\n",
       "    <tr>\n",
       "      <th>C(performance)</th>\n",
       "      <td>24.033658</td>\n",
       "      <td>21.0</td>\n",
       "      <td>18.119563</td>\n",
       "      <td>3.475235e-31</td>\n",
       "    </tr>\n",
       "    <tr>\n",
       "      <th>C(cond)</th>\n",
       "      <td>0.105899</td>\n",
       "      <td>3.0</td>\n",
       "      <td>0.558878</td>\n",
       "      <td>6.429824e-01</td>\n",
       "    </tr>\n",
       "    <tr>\n",
       "      <th>Residual</th>\n",
       "      <td>9.474234</td>\n",
       "      <td>150.0</td>\n",
       "      <td>NaN</td>\n",
       "      <td>NaN</td>\n",
       "    </tr>\n",
       "  </tbody>\n",
       "</table>\n",
       "</div>"
      ],
      "text/plain": [
       "                     sum_sq     df          F        PR(>F)\n",
       "C(expansiveness)   1.505296   19.0   1.254341  2.225867e-01\n",
       "C(performance)    24.033658   21.0  18.119563  3.475235e-31\n",
       "C(cond)            0.105899    3.0   0.558878  6.429824e-01\n",
       "Residual           9.474234  150.0        NaN           NaN"
      ]
     },
     "execution_count": 8,
     "metadata": {},
     "output_type": "execute_result"
    }
   ],
   "source": [
    "# two-way ANOVAs\n",
    "import statsmodels.api as sm\n",
    "from statsmodels.formula.api import ols\n",
    "\n",
    "model = ols('hire ~ C(expansiveness) + C(performance) + C(cond)', data=df2).fit()\n",
    "sm.stats.anova_lm(model, typ=2)"
   ]
  },
  {
   "cell_type": "code",
   "execution_count": 9,
   "metadata": {},
   "outputs": [
    {
     "data": {
      "text/html": [
       "<div>\n",
       "<style scoped>\n",
       "    .dataframe tbody tr th:only-of-type {\n",
       "        vertical-align: middle;\n",
       "    }\n",
       "\n",
       "    .dataframe tbody tr th {\n",
       "        vertical-align: top;\n",
       "    }\n",
       "\n",
       "    .dataframe thead th {\n",
       "        text-align: right;\n",
       "    }\n",
       "</style>\n",
       "<table border=\"1\" class=\"dataframe\">\n",
       "  <thead>\n",
       "    <tr style=\"text-align: right;\">\n",
       "      <th></th>\n",
       "      <th>sum_sq</th>\n",
       "      <th>df</th>\n",
       "      <th>F</th>\n",
       "      <th>PR(&gt;F)</th>\n",
       "    </tr>\n",
       "  </thead>\n",
       "  <tbody>\n",
       "    <tr>\n",
       "      <th>C(hire)</th>\n",
       "      <td>9.054815</td>\n",
       "      <td>8.0</td>\n",
       "      <td>1.867434</td>\n",
       "      <td>0.068524</td>\n",
       "    </tr>\n",
       "    <tr>\n",
       "      <th>C(performance)</th>\n",
       "      <td>41.085162</td>\n",
       "      <td>21.0</td>\n",
       "      <td>3.227910</td>\n",
       "      <td>0.000014</td>\n",
       "    </tr>\n",
       "    <tr>\n",
       "      <th>C(cond)</th>\n",
       "      <td>2.785954</td>\n",
       "      <td>3.0</td>\n",
       "      <td>1.532175</td>\n",
       "      <td>0.208211</td>\n",
       "    </tr>\n",
       "    <tr>\n",
       "      <th>Residual</th>\n",
       "      <td>97.582089</td>\n",
       "      <td>161.0</td>\n",
       "      <td>NaN</td>\n",
       "      <td>NaN</td>\n",
       "    </tr>\n",
       "  </tbody>\n",
       "</table>\n",
       "</div>"
      ],
      "text/plain": [
       "                   sum_sq     df         F    PR(>F)\n",
       "C(hire)          9.054815    8.0  1.867434  0.068524\n",
       "C(performance)  41.085162   21.0  3.227910  0.000014\n",
       "C(cond)          2.785954    3.0  1.532175  0.208211\n",
       "Residual        97.582089  161.0       NaN       NaN"
      ]
     },
     "execution_count": 9,
     "metadata": {},
     "output_type": "execute_result"
    }
   ],
   "source": [
    "model = ols('expansiveness ~ C(hire) + C(performance) + C(cond)', data=df2).fit()\n",
    "sm.stats.anova_lm(model, typ=2)"
   ]
  },
  {
   "cell_type": "code",
   "execution_count": 10,
   "metadata": {},
   "outputs": [
    {
     "data": {
      "text/html": [
       "<div>\n",
       "<style scoped>\n",
       "    .dataframe tbody tr th:only-of-type {\n",
       "        vertical-align: middle;\n",
       "    }\n",
       "\n",
       "    .dataframe tbody tr th {\n",
       "        vertical-align: top;\n",
       "    }\n",
       "\n",
       "    .dataframe thead th {\n",
       "        text-align: right;\n",
       "    }\n",
       "</style>\n",
       "<table border=\"1\" class=\"dataframe\">\n",
       "  <thead>\n",
       "    <tr style=\"text-align: right;\">\n",
       "      <th></th>\n",
       "      <th>sum_sq</th>\n",
       "      <th>df</th>\n",
       "      <th>F</th>\n",
       "      <th>PR(&gt;F)</th>\n",
       "    </tr>\n",
       "  </thead>\n",
       "  <tbody>\n",
       "    <tr>\n",
       "      <th>C(expansiveness)</th>\n",
       "      <td>11.322270</td>\n",
       "      <td>19.0</td>\n",
       "      <td>1.966589</td>\n",
       "      <td>1.267759e-02</td>\n",
       "    </tr>\n",
       "    <tr>\n",
       "      <th>C(hire)</th>\n",
       "      <td>107.257501</td>\n",
       "      <td>8.0</td>\n",
       "      <td>44.245731</td>\n",
       "      <td>4.433886e-37</td>\n",
       "    </tr>\n",
       "    <tr>\n",
       "      <th>C(cond)</th>\n",
       "      <td>1.713774</td>\n",
       "      <td>3.0</td>\n",
       "      <td>1.885237</td>\n",
       "      <td>1.341186e-01</td>\n",
       "    </tr>\n",
       "    <tr>\n",
       "      <th>Residual</th>\n",
       "      <td>49.391693</td>\n",
       "      <td>163.0</td>\n",
       "      <td>NaN</td>\n",
       "      <td>NaN</td>\n",
       "    </tr>\n",
       "  </tbody>\n",
       "</table>\n",
       "</div>"
      ],
      "text/plain": [
       "                      sum_sq     df          F        PR(>F)\n",
       "C(expansiveness)   11.322270   19.0   1.966589  1.267759e-02\n",
       "C(hire)           107.257501    8.0  44.245731  4.433886e-37\n",
       "C(cond)             1.713774    3.0   1.885237  1.341186e-01\n",
       "Residual           49.391693  163.0        NaN           NaN"
      ]
     },
     "execution_count": 10,
     "metadata": {},
     "output_type": "execute_result"
    }
   ],
   "source": [
    "model = ols('performance ~ C(expansiveness) + C(hire) + C(cond)', data=df2).fit()\n",
    "sm.stats.anova_lm(model, typ=2)"
   ]
  },
  {
   "cell_type": "markdown",
   "metadata": {},
   "source": [
    "### Results\n",
    "Two-way ANOVA showed a significant correlation between performance (p-value: 4.433886e-37) and hireability (p-value: 3.475235e-31). Expansiveness appears to have less impact on other dependent measures."
   ]
  },
  {
   "cell_type": "markdown",
   "metadata": {},
   "source": [
    "### Please export this file to HTML and submit it to NTU COOL before next Friday (2023/9/15)."
   ]
  }
 ],
 "metadata": {
  "kernelspec": {
   "display_name": "Python 3 (ipykernel)",
   "language": "python",
   "name": "python3"
  },
  "language_info": {
   "codemirror_mode": {
    "name": "ipython",
    "version": 3
   },
   "file_extension": ".py",
   "mimetype": "text/x-python",
   "name": "python",
   "nbconvert_exporter": "python",
   "pygments_lexer": "ipython3",
   "version": "3.10.11"
  }
 },
 "nbformat": 4,
 "nbformat_minor": 2
}
